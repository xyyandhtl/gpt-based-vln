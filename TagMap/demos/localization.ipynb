{
 "cells": [
  {
   "cell_type": "code",
   "execution_count": null,
   "id": "0fa25531",
   "metadata": {},
   "outputs": [],
   "source": [
    "import os\n",
    "\n",
    "import numpy as np\n",
    "import open3d as o3d\n",
    "\n",
    "import matplotlib.pyplot as plt\n",
    "from matplotlib import cm\n",
    "\n",
    "import ipywidgets as widgets\n",
    "from IPython.display import display"
   ]
  },
  {
   "cell_type": "code",
   "execution_count": null,
   "id": "ea59c01a",
   "metadata": {},
   "outputs": [],
   "source": [
    "from tag_mapping.datasets.matterport import (\n",
    "    read_matterport_image_file,\n",
    "    read_matterport_depth_file,\n",
    "    MatterportFilenameBridge\n",
    ")\n",
    "\n",
    "from tag_mapping import TagMap\n",
    "\n",
    "from tag_mapping.localization import tagmap_entries_to_viewpoints, localization_pipeline\n",
    "\n",
    "from tag_mapping.utils import box_to_linemesh"
   ]
  },
  {
   "cell_type": "markdown",
   "id": "6f1b59f7",
   "metadata": {},
   "source": [
    "## Load scene data\n",
    "Please first download the demo data by running `download_demo_data.sh`."
   ]
  },
  {
   "cell_type": "code",
   "execution_count": null,
   "id": "15091f3d",
   "metadata": {},
   "outputs": [],
   "source": [
    "scene_dir = 'demo_data'"
   ]
  },
  {
   "cell_type": "code",
   "execution_count": null,
   "id": "2e42bcc5",
   "metadata": {},
   "outputs": [],
   "source": [
    "tag_map = TagMap.load(f'{scene_dir}/scene.tagmap')\n",
    "intrinsics = tag_map.metadata[\"intrinsics\"]"
   ]
  },
  {
   "cell_type": "code",
   "execution_count": null,
   "id": "54726254",
   "metadata": {},
   "outputs": [],
   "source": [
    "images_dir = os.path.join(scene_dir, 'color')\n",
    "depths_dir = os.path.join(scene_dir, 'depth')\n",
    "poses_dir = os.path.join(scene_dir, 'poses')\n",
    "mesh_path = os.path.join(scene_dir, 'mesh.ply')"
   ]
  },
  {
   "cell_type": "markdown",
   "id": "c3ba44ef",
   "metadata": {},
   "source": [
    "Load and visualize the mesh"
   ]
  },
  {
   "cell_type": "code",
   "execution_count": null,
   "id": "48e91139",
   "metadata": {},
   "outputs": [],
   "source": [
    "scene_mesh = o3d.io.read_triangle_mesh(mesh_path)"
   ]
  },
  {
   "cell_type": "code",
   "execution_count": null,
   "id": "3c5ce219",
   "metadata": {},
   "outputs": [],
   "source": [
    "o3d.visualization.draw_geometries([scene_mesh])"
   ]
  },
  {
   "cell_type": "markdown",
   "id": "3f0609f7",
   "metadata": {},
   "source": [
    "## Localize a selected tag\n",
    "\n",
    "Select a tag recognized in the scene to localize"
   ]
  },
  {
   "cell_type": "code",
   "execution_count": null,
   "id": "f27dc6c5",
   "metadata": {},
   "outputs": [],
   "source": [
    "options = sorted(list(tag_map.unique_objects))\n",
    "query_dropdown = widgets.Dropdown(options=options, description='Select an tag:')\n",
    "display(query_dropdown)"
   ]
  },
  {
   "cell_type": "markdown",
   "id": "0822b061-1fa0-4710-8f72-0aa895711867",
   "metadata": {},
   "source": [
    "Retrieve corresponding viewpoints for the selected tag.\n",
    "\n",
    "__Rerun this block after changing the selection__"
   ]
  },
  {
   "cell_type": "code",
   "execution_count": null,
   "id": "858838ca",
   "metadata": {},
   "outputs": [],
   "source": [
    "query_entries = tag_map.query(query_dropdown.value)"
   ]
  },
  {
   "cell_type": "markdown",
   "id": "8f7d4677-406e-4010-83db-c52f85489fbb",
   "metadata": {},
   "source": [
    "Show the images for a few of the viewpoints corresponding to the tag"
   ]
  },
  {
   "cell_type": "code",
   "execution_count": null,
   "id": "c7d7d528",
   "metadata": {},
   "outputs": [],
   "source": [
    "max_show = 6\n",
    "num_show = min(len(query_entries), max_show)\n",
    "\n",
    "fig, axes = plt.subplots(1, num_show, figsize=(3*num_show, 6))\n",
    "\n",
    "for i in range(num_show):\n",
    "    entry = query_entries[i]\n",
    "    image_filename = entry.extras['image_filename']\n",
    "    conf = entry.extras['confidence']\n",
    "    \n",
    "    image = read_matterport_image_file(\n",
    "        os.path.join(images_dir, image_filename))\n",
    "    \n",
    "    try:\n",
    "        ax = axes[i]\n",
    "    except TypeError:\n",
    "        ax = axes\n",
    "        \n",
    "    ax.imshow(image)\n",
    "    ax.set_xticks([])\n",
    "    ax.set_yticks([])\n",
    "    ax.set_title(f'confidence: {conf:.2f}')\n",
    "    ax.set_aspect(1)\n",
    "\n",
    "plt.show()"
   ]
  },
  {
   "cell_type": "markdown",
   "id": "b5d9c2da",
   "metadata": {},
   "source": [
    "## Compute coarse-grained localizations in 3D for the selected tag\n",
    "For each viewpoint corresponding to the selected tag, we first get their frustums in 3D."
   ]
  },
  {
   "cell_type": "code",
   "execution_count": null,
   "id": "c79bc958",
   "metadata": {},
   "outputs": [],
   "source": [
    "viewpoints = tagmap_entries_to_viewpoints(\n",
    "    entries=query_entries,\n",
    "    intrinsics=intrinsics,\n",
    "\n",
    "    # set the near plane of the viewpoint frustum to a constant distance away\n",
    "    near_dist_fn=lambda x: 0.2,\n",
    "    \n",
    "    # the far plane of the viewpoint frustum is set as the 80th percentile depth value\n",
    "    # of each viewpoint\n",
    "    far_dist_fn=lambda entry: entry.extras['depth_percentiles']['0.8'],\n",
    ")"
   ]
  },
  {
   "cell_type": "markdown",
   "id": "13dffe4c-cd21-4efb-bd51-829709ae22cd",
   "metadata": {},
   "source": [
    "Visualize the retrieved viewpoint frustums"
   ]
  },
  {
   "cell_type": "code",
   "execution_count": null,
   "id": "5423e3f7",
   "metadata": {},
   "outputs": [],
   "source": [
    "o3d.visualization.draw_geometries([scene_mesh] + [vp.o3d_lineset(color=np.random.rand(3)) for vp in viewpoints])"
   ]
  },
  {
   "cell_type": "markdown",
   "id": "fad8af37-b98c-4edc-b1ff-1fd53f74f8ba",
   "metadata": {},
   "source": [
    "### Localization pipeline\n",
    "The localization pipeline takes as input the frustums of the retrieved viewpoints and performs a voting procedure over voxels in the scene to generate localized regions for the selected tag.\n",
    "\n",
    "The final output is a set of proposed localizations for the tag, represented as bounding boxes, along with the confidence level (min number of votes) for each bounding box."
   ]
  },
  {
   "cell_type": "code",
   "execution_count": null,
   "id": "e139603a",
   "metadata": {},
   "outputs": [],
   "source": [
    "voxel_size = 0.2\n",
    "\n",
    "localization_params = {\n",
    "    'voxel_voting': {\n",
    "        'viewpoint_weight': None,  # [None, 'confidence']\n",
    "        'voxel_size': voxel_size,\n",
    "        'scoring_method': 'normalized_votes',  # ['normalized_votes', 'votes']\n",
    "    },\n",
    "    \n",
    "    'clustering': {\n",
    "        'algorithm': 'dbscan',  # ['dbscan', 'hdbscan']\n",
    "        'dbscan_kwargs': {\n",
    "            'eps': 2 * voxel_size,\n",
    "            'min_points': 5,\n",
    "            'print_progress': False,\n",
    "        },\n",
    "        \n",
    "        'clustering_levels': [0.0, 0.25, 0.5, 0.75],  # only used if 'scoring_method' == 'normalized_votes'\n",
    "        'bounding_box_type': 'axis_aligned',  # ['axis_aligned', 'oriented']\n",
    "    },\n",
    "}"
   ]
  },
  {
   "cell_type": "code",
   "execution_count": null,
   "id": "acd5d34f",
   "metadata": {},
   "outputs": [],
   "source": [
    "loc_outputs = localization_pipeline(viewpoints, localization_params, verbose=False)"
   ]
  },
  {
   "cell_type": "code",
   "execution_count": null,
   "id": "7f4645df-28f4-40a7-8ed5-8f3047ae9bd8",
   "metadata": {},
   "outputs": [],
   "source": [
    "voxel_center_points = loc_outputs[\"voxel_center_points\"]\n",
    "voxel_scores = loc_outputs[\"voxel_scores\"]\n",
    "level_bbxes = loc_outputs[\"level_bbxes\"]"
   ]
  },
  {
   "cell_type": "markdown",
   "id": "8ee7d6b3",
   "metadata": {},
   "source": [
    "## Visualize localizations"
   ]
  },
  {
   "cell_type": "markdown",
   "id": "18f71776-d212-4ed6-ae6a-bdfc879a54e0",
   "metadata": {},
   "source": [
    "Visualize the voxel voting results. Voxel points are colored by their corresponding number of votes."
   ]
  },
  {
   "cell_type": "code",
   "execution_count": null,
   "id": "a5c4629f",
   "metadata": {},
   "outputs": [],
   "source": [
    "voxel_center_points_color = cm.viridis(voxel_scores / voxel_scores.max())[:, :3]\n",
    "\n",
    "voxel_pcd = o3d.geometry.PointCloud()\n",
    "voxel_pcd.points = o3d.utility.Vector3dVector(voxel_center_points)\n",
    "voxel_pcd.colors = o3d.utility.Vector3dVector(voxel_center_points_color)\n",
    "\n",
    "o3d.visualization.draw_geometries([scene_mesh, voxel_pcd])"
   ]
  },
  {
   "cell_type": "markdown",
   "id": "41a003d2",
   "metadata": {},
   "source": [
    "Visualize proposed localization bounding boxes. Bounding boxes are colored by their confidence levels corresponding to the minimum number of votes for voxels within the bounding box."
   ]
  },
  {
   "cell_type": "code",
   "execution_count": null,
   "id": "0a833f66",
   "metadata": {},
   "outputs": [],
   "source": [
    "confidences = [l for l, _ in level_bbxes]\n",
    "boxes = [b for _, b in level_bbxes]\n",
    "max_conf = np.max(confidences)\n",
    "\n",
    "boxes_linemeshes = []\n",
    "for conf, box in zip(confidences, boxes):\n",
    "    color = cm.viridis(conf / max_conf)[:3]\n",
    "    \n",
    "    boxes_linemeshes += box_to_linemesh(\n",
    "        box, \n",
    "        color=color, \n",
    "        radius=0.02\n",
    "    ).cylinder_segments\n",
    "    \n",
    "o3d.visualization.draw_geometries([scene_mesh] + boxes_linemeshes)"
   ]
  },
  {
   "cell_type": "code",
   "execution_count": null,
   "id": "5c95556e",
   "metadata": {},
   "outputs": [],
   "source": []
  }
 ],
 "metadata": {
  "kernelspec": {
   "display_name": "Python 3 (ipykernel)",
   "language": "python",
   "name": "python3"
  },
  "language_info": {
   "codemirror_mode": {
    "name": "ipython",
    "version": 3
   },
   "file_extension": ".py",
   "mimetype": "text/x-python",
   "name": "python",
   "nbconvert_exporter": "python",
   "pygments_lexer": "ipython3",
   "version": "3.8.10"
  }
 },
 "nbformat": 4,
 "nbformat_minor": 5
}
