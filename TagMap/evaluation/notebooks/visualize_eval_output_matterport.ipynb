{
 "cells": [
  {
   "cell_type": "code",
   "execution_count": null,
   "id": "590571fd",
   "metadata": {},
   "outputs": [],
   "source": [
    "import pickle\n",
    "\n",
    "import numpy as np\n",
    "import open3d as o3d\n",
    "\n",
    "import matplotlib.pyplot as plt\n",
    "from matplotlib import cm\n",
    "\n",
    "import ipywidgets as widgets\n",
    "from IPython.display import display"
   ]
  },
  {
   "cell_type": "code",
   "execution_count": null,
   "id": "1874b3af",
   "metadata": {},
   "outputs": [],
   "source": [
    "from tag_mapping.evaluation import LatticeNavigationGraph\n",
    "\n",
    "from tag_mapping.utils import LineMesh, box_to_linemesh"
   ]
  },
  {
   "cell_type": "code",
   "execution_count": null,
   "id": "7e3dc76d-c3c8-4531-8f3e-9c3b8b49a1ac",
   "metadata": {},
   "outputs": [],
   "source": [
    "from helpers import generate_lattice_graph_shortest_path_linemeshes"
   ]
  },
  {
   "cell_type": "code",
   "execution_count": null,
   "id": "6bb042a1",
   "metadata": {},
   "outputs": [],
   "source": [
    "# for interactive dropdown selection\n",
    "def on_dropdown_change(change):\n",
    "    if change['type'] == 'change' and change['name'] == 'value':\n",
    "        selected_option = change['new']"
   ]
  },
  {
   "cell_type": "markdown",
   "id": "6a297a46",
   "metadata": {},
   "source": [
    "## Load evaluation output for a scene\n",
    "Set `eval_output_path` to the path of the evaluation output file you want to inspect"
   ]
  },
  {
   "cell_type": "code",
   "execution_count": null,
   "id": "4dcb70f1",
   "metadata": {},
   "outputs": [],
   "source": [
    "eval_output_path = 'eval_output.pkl'\n",
    "\n",
    "with open(eval_output_path, 'rb') as f:\n",
    "    eval_output = pickle.load(f)"
   ]
  },
  {
   "cell_type": "markdown",
   "id": "aed4556b",
   "metadata": {},
   "source": [
    "Load and visualize the scene mesh"
   ]
  },
  {
   "cell_type": "code",
   "execution_count": null,
   "id": "842a0fc2",
   "metadata": {},
   "outputs": [],
   "source": [
    "scene_mesh = o3d.io.read_triangle_mesh(eval_output[\"ply_file_path\"])"
   ]
  },
  {
   "cell_type": "code",
   "execution_count": null,
   "id": "19141a1c",
   "metadata": {},
   "outputs": [],
   "source": [
    "o3d.visualization.draw_geometries([scene_mesh])"
   ]
  },
  {
   "cell_type": "markdown",
   "id": "8e7f9b44",
   "metadata": {},
   "source": [
    "Load the scene lattice graph"
   ]
  },
  {
   "cell_type": "code",
   "execution_count": null,
   "id": "92a290fd",
   "metadata": {},
   "outputs": [],
   "source": [
    "lattice_graph = LatticeNavigationGraph.load(eval_output[\"lattice_graph_path\"])"
   ]
  },
  {
   "cell_type": "markdown",
   "id": "f0068d0c",
   "metadata": {},
   "source": [
    "Load other stored evaluation outputs"
   ]
  },
  {
   "cell_type": "code",
   "execution_count": null,
   "id": "6567d290",
   "metadata": {},
   "outputs": [],
   "source": [
    "label_gt_boxes = eval_output[\"label_gt_boxes\"]\n",
    "label_lattice_inds = eval_output[\"label_lattice_inds\"]\n",
    "label_gt_boxes_metrics = eval_output[\"label_gt_boxes_metrics\"]\n",
    "label_proposals = eval_output[\"label_proposals\"]"
   ]
  },
  {
   "cell_type": "markdown",
   "id": "1c7cba7f",
   "metadata": {},
   "source": [
    "Evaluation output stores box corners instead of the axis-aligned bounding box object as it's not pickleable, create the boxes again here"
   ]
  },
  {
   "cell_type": "code",
   "execution_count": null,
   "id": "6a44ba69",
   "metadata": {},
   "outputs": [],
   "source": [
    "for label, proposals in label_proposals.items():\n",
    "    proposals[\"boxes\"] = []\n",
    "    for box_corners in proposals[\"boxes_corners\"]:\n",
    "        min_bound = np.min(box_corners, axis=0)\n",
    "        max_bound = np.max(box_corners, axis=0)\n",
    "        proposals[\"boxes\"].append(\n",
    "            o3d.geometry.AxisAlignedBoundingBox(min_bound, max_bound)\n",
    "        )"
   ]
  },
  {
   "cell_type": "markdown",
   "id": "17025612",
   "metadata": {},
   "source": [
    "## Visualize labeled ground-truth along with Tag Map localization\n",
    "Use the dropdown menu to select a labeled semantic class to visualize"
   ]
  },
  {
   "cell_type": "code",
   "execution_count": null,
   "id": "65b5f596",
   "metadata": {},
   "outputs": [],
   "source": [
    "select_mpcat40_label_dropdown = widgets.Dropdown(\n",
    "    options=sorted(label_proposals.keys()),\n",
    "    description='',\n",
    "    disabled=False,\n",
    ")\n",
    "display(select_mpcat40_label_dropdown)"
   ]
  },
  {
   "cell_type": "markdown",
   "id": "9186bfe3-0174-4b0e-a86f-f83fcca1bc83",
   "metadata": {},
   "source": [
    "For the evaluation, a labeled semantic class is mapped to the set of corresponding tags in the vocabulary of the image tagging model. For example, the semantic class `chair` in Matterport3D is mapped to `office chair`, `beach chair`, and etc. The following dropdown can be used to visualize the localizations of a specific tag belonging to the selected semantic class.\n",
    "\n",
    "If `all` is selected then the localizations of all tags corresponding to the selected semantic class are visualized.\n",
    "\n",
    "The localization bounding boxes are colored by their confidence levels corresponding to the minimum number of votes for voxels within the bounding box."
   ]
  },
  {
   "cell_type": "code",
   "execution_count": null,
   "id": "2c04df8c",
   "metadata": {},
   "outputs": [],
   "source": [
    "selected_label = select_mpcat40_label_dropdown.value\n",
    "tag_options = list(set(label_proposals[selected_label][\"tags\"]))\n",
    "\n",
    "select_tag_dropdown = widgets.Dropdown(\n",
    "    options=['all'] + sorted(tag_options),\n",
    "    description='',\n",
    "    disabled=False,\n",
    ")\n",
    "display(select_tag_dropdown)"
   ]
  },
  {
   "cell_type": "code",
   "execution_count": null,
   "id": "cfe971a1",
   "metadata": {},
   "outputs": [],
   "source": [
    "label_boxes = label_gt_boxes[selected_label]\n",
    "proposals = label_proposals[selected_label]\n",
    "\n",
    "if len(proposals['boxes']) == 0:\n",
    "    raise Exception(\"label has no associated proposals\")\n",
    "\n",
    "selected_tag = select_tag_dropdown.value\n",
    "if selected_tag == 'all':\n",
    "    selected_boxes = proposals[\"boxes\"]\n",
    "    selected_box_confidences = proposals[\"confidences\"]\n",
    "else:\n",
    "    selected_boxes = [ box for i, box in enumerate(proposals[\"boxes\"]) if proposals[\"tags\"][i] == selected_tag]\n",
    "    selected_box_confidences = [conf for i, conf in enumerate(proposals[\"confidences\"]) if proposals[\"tags\"][i] == selected_tag]\n",
    "\n",
    "max_conf = np.max(selected_box_confidences)\n",
    "\n",
    "viz_selected_boxes_linemeshes = []\n",
    "for box, conf in zip(selected_boxes, selected_box_confidences):\n",
    "    color = cm.viridis(conf/max_conf)[:3]\n",
    "    viz_selected_boxes_linemeshes += box_to_linemesh(\n",
    "        box, color=color, radius=0.02\n",
    "    ).cylinder_segments\n",
    " \n",
    "label_boxes_linemeshes = []\n",
    "for box in label_boxes:\n",
    "    label_boxes_linemeshes += box_to_linemesh(\n",
    "        box, color=(0,1,0), radius=0.02\n",
    "    ).cylinder_segments\n",
    "\n",
    "o3d.visualization.draw_geometries([scene_mesh] + label_boxes_linemeshes + viz_selected_boxes_linemeshes)  "
   ]
  },
  {
   "cell_type": "markdown",
   "id": "e2c90063",
   "metadata": {},
   "source": [
    "## Visualize the coarse-localization metrics\n",
    "\n",
    "Use the following dropdown to select a semantic class to visualize"
   ]
  },
  {
   "cell_type": "code",
   "execution_count": null,
   "id": "66c73339",
   "metadata": {},
   "outputs": [],
   "source": [
    "select_mpcat40_label_dropdown = widgets.Dropdown(\n",
    "    options=sorted(label_proposals.keys()),\n",
    "    description='',\n",
    "    disabled=False,\n",
    ")\n",
    "display(select_mpcat40_label_dropdown)"
   ]
  },
  {
   "cell_type": "code",
   "execution_count": null,
   "id": "fc44526f-1dd9-49b0-94a4-6af643c1da66",
   "metadata": {},
   "outputs": [],
   "source": [
    "selected_label = select_mpcat40_label_dropdown.value"
   ]
  },
  {
   "cell_type": "markdown",
   "id": "df6a6ed6-c519-4bc9-85d7-cddf2c95bfa4",
   "metadata": {},
   "source": [
    "### Visualize the P2E metric\n",
    "Use the following dropdown to select a Tag Map proposed localization to visualize."
   ]
  },
  {
   "cell_type": "code",
   "execution_count": null,
   "id": "120e6e30",
   "metadata": {},
   "outputs": [],
   "source": [
    "proposals = label_proposals[selected_label]\n",
    "proposals_confidences = proposals['confidences']\n",
    "proposals_p2e = [m['p2e'] for m in proposals['metrics']]\n",
    "\n",
    "select_proposal_options = []\n",
    "for p2e, conf in zip(proposals_p2e, proposals_confidences):\n",
    "    option = f\"P2E: {p2e:.2f}   -   confidence: {conf}\"\n",
    "    select_proposal_options.append(option)\n",
    "\n",
    "select_proposal_dropdown = widgets.Dropdown(\n",
    "    options=select_proposal_options,\n",
    "    description='',\n",
    "    disabled=False,\n",
    ")\n",
    "display(select_proposal_dropdown)"
   ]
  },
  {
   "cell_type": "code",
   "execution_count": null,
   "id": "e426a027-9d51-403b-97d8-f65e10fc2ead",
   "metadata": {},
   "outputs": [],
   "source": [
    "selected_proposal_index = select_proposal_dropdown.index"
   ]
  },
  {
   "cell_type": "markdown",
   "id": "a0b2eef9-cfc3-4109-afe2-9ef7139fe387",
   "metadata": {},
   "source": [
    "Visualize the selected Tag Map localization bounding box, the ground-truth bounding boxes for the selected semantic class, as well as the shortest paths from the localization to the ground-truth bounding boxes used in compute the P2E."
   ]
  },
  {
   "cell_type": "code",
   "execution_count": null,
   "id": "c89d8c90",
   "metadata": {},
   "outputs": [],
   "source": [
    "if len(proposals[\"boxes\"]) == 0:\n",
    "    raise Exception(\"label has no associated Tag Map localizations\")\n",
    "\n",
    "proposal_box = proposals[\"boxes\"][selected_proposal_index]\n",
    "proposal_box_color = cm.viridis(\n",
    "    proposals_confidences[selected_proposal_index] / np.max(proposals_confidences))[:3]\n",
    "proposal_box_linemesh = box_to_linemesh(\n",
    "    proposal_box, color=proposal_box_color, radius=0.02,\n",
    ").cylinder_segments\n",
    "\n",
    "proposal_node_inds = proposals[\"lattice_inds\"][selected_proposal_index]\n",
    "proposal_nodes_pcd = lattice_graph.o3d_nodes_pointcloud.select_by_index(proposal_node_inds)\n",
    "proposal_nodes_pcd = proposal_nodes_pcd.paint_uniform_color((0,0,1))\n",
    "\n",
    "label_boxes = label_gt_boxes[selected_label]\n",
    "label_boxes_linemeshes = []\n",
    "for box in label_boxes:\n",
    "    label_boxes_linemeshes += box_to_linemesh(\n",
    "        box, color=(0,1,0), radius=0.02\n",
    "    ).cylinder_segments\n",
    "\n",
    "label_node_inds = set()\n",
    "for node_inds in label_lattice_inds[selected_label]:\n",
    "        label_node_inds.update(node_inds)\n",
    "label_node_inds = list(label_node_inds)\n",
    "label_nodes_pcd = lattice_graph.o3d_nodes_pointcloud.select_by_index(label_node_inds)\n",
    "label_nodes_pcd = label_nodes_pcd.paint_uniform_color((0,1,0))\n",
    "\n",
    "shortest_path_linemeshes = generate_lattice_graph_shortest_path_linemeshes(\n",
    "    lattice_graph, proposal_node_inds, label_node_inds\n",
    ")\n",
    "\n",
    "o3d.visualization.draw_geometries(\n",
    "    [scene_mesh] + proposal_box_linemesh + [proposal_nodes_pcd] + label_boxes_linemeshes + [label_nodes_pcd] + shortest_path_linemeshes\n",
    ")"
   ]
  },
  {
   "cell_type": "markdown",
   "id": "089059a9-b6ff-4f15-8040-b3bdddb051cf",
   "metadata": {},
   "source": [
    "### Visualize the E2P metric\n",
    "Use the following dropdown to select a ground-truth bounding box of the selected semantic class to visualize."
   ]
  },
  {
   "cell_type": "code",
   "execution_count": null,
   "id": "529f92d2-6ac6-4d22-b371-f28c90ef7d4e",
   "metadata": {},
   "outputs": [],
   "source": [
    "gt_boxes_e2p = [m['e2p'] for m in label_gt_boxes_metrics[selected_label]]\n",
    "\n",
    "select_gt_box_options = []\n",
    "for e2p in gt_boxes_e2p:\n",
    "    option = f\"E2P: {e2p:.2f}\"\n",
    "    select_gt_box_options.append(option)\n",
    "\n",
    "select_gt_box_dropdown = widgets.Dropdown(\n",
    "    options=select_gt_box_options,\n",
    "    description='',\n",
    "    disabled=False,\n",
    ")\n",
    "display(select_gt_box_dropdown)"
   ]
  },
  {
   "cell_type": "code",
   "execution_count": null,
   "id": "4b9f4a9f-2564-4bfd-82cc-c7286396d3f0",
   "metadata": {},
   "outputs": [],
   "source": [
    "selected_gt_box_index = select_gt_box_dropdown.index"
   ]
  },
  {
   "cell_type": "markdown",
   "id": "c21a877e-15d0-4c65-94b6-ed121e29d880",
   "metadata": {},
   "source": [
    "Visualize the selected ground-truth bounding box, the corresponding Tag Map localization for the selected semantic class, as well as the shortest paths from the selected ground-truth bounding box to the Tag Map localization bounding boxes."
   ]
  },
  {
   "cell_type": "code",
   "execution_count": null,
   "id": "ac1b19d1-e345-4503-99df-ab6bb54ed7ac",
   "metadata": {},
   "outputs": [],
   "source": [
    "gt_box = label_gt_boxes[selected_label][selected_gt_box_index]\n",
    "gt_box_linemesh = box_to_linemesh(\n",
    "    gt_box, color=(0,1,0), radius=0.02,\n",
    ").cylinder_segments\n",
    "\n",
    "gt_box_node_inds = label_lattice_inds[selected_label][selected_gt_box_index]\n",
    "gt_box_nodes_pcd = lattice_graph.o3d_nodes_pointcloud.select_by_index(gt_box_node_inds)\n",
    "gt_box_nodes_pcd = gt_box_nodes_pcd.paint_uniform_color((0,1,0))\n",
    "\n",
    "proposal_boxes = label_proposals[selected_label][\"boxes\"]\n",
    "if len(proposal_boxes) == 0:\n",
    "    raise Exception(\"label has no associated Tag Map localizations\")\n",
    "\n",
    "proposal_boxes_linemeshes = []\n",
    "for i, box in enumerate(proposal_boxes):\n",
    "    color = cm.viridis(\n",
    "        label_proposals[selected_label]['confidences'][i] / np.max(label_proposals[selected_label]['confidences'])\n",
    "    )[:3]\n",
    "    proposal_boxes_linemeshes += box_to_linemesh(\n",
    "        box, color=color, radius=0.02\n",
    "    ).cylinder_segments\n",
    "\n",
    "proposal_boxes_node_inds = set()\n",
    "for node_inds in label_proposals[selected_label][\"lattice_inds\"]:\n",
    "        proposal_boxes_node_inds.update(node_inds)\n",
    "proposal_boxes_node_inds = list(proposal_boxes_node_inds)\n",
    "proposal_boxes_nodes_pcd = lattice_graph.o3d_nodes_pointcloud.select_by_index(proposal_boxes_node_inds)\n",
    "proposal_boxes_nodes_pcd = proposal_boxes_nodes_pcd.paint_uniform_color((0,0,1))\n",
    "\n",
    "shortest_path_linemeshes = generate_lattice_graph_shortest_path_linemeshes(\n",
    "    lattice_graph, gt_box_node_inds, proposal_boxes_node_inds\n",
    ")\n",
    "\n",
    "o3d.visualization.draw_geometries(\n",
    "    [scene_mesh] + gt_box_linemesh + [gt_box_nodes_pcd] + proposal_boxes_linemeshes + [proposal_boxes_nodes_pcd] + shortest_path_linemeshes\n",
    ")"
   ]
  },
  {
   "cell_type": "code",
   "execution_count": null,
   "id": "f319c509-cb66-408c-afb5-33b643a0673f",
   "metadata": {},
   "outputs": [],
   "source": []
  }
 ],
 "metadata": {
  "kernelspec": {
   "display_name": "Python 3 (ipykernel)",
   "language": "python",
   "name": "python3"
  },
  "language_info": {
   "codemirror_mode": {
    "name": "ipython",
    "version": 3
   },
   "file_extension": ".py",
   "mimetype": "text/x-python",
   "name": "python",
   "nbconvert_exporter": "python",
   "pygments_lexer": "ipython3",
   "version": "3.8.10"
  }
 },
 "nbformat": 4,
 "nbformat_minor": 5
}
